{
 "cells": [
  {
   "cell_type": "markdown",
   "metadata": {},
   "source": [
    "# KMeans clustering"
   ]
  },
  {
   "cell_type": "code",
   "execution_count": 3,
   "metadata": {},
   "outputs": [],
   "source": [
    "import numpy as np\n",
    "from sklearn.cluster import KMeans"
   ]
  },
  {
   "cell_type": "code",
   "execution_count": 4,
   "metadata": {},
   "outputs": [],
   "source": [
    "from sklearn.datasets import make_blobs"
   ]
  },
  {
   "cell_type": "code",
   "execution_count": 5,
   "metadata": {},
   "outputs": [],
   "source": [
    "bolb=make_blobs()"
   ]
  },
  {
   "cell_type": "code",
   "execution_count": 17,
   "metadata": {},
   "outputs": [],
   "source": [
    "X,y=make_blobs(n_samples=300,n_features=5,random_state=20)"
   ]
  },
  {
   "cell_type": "code",
   "execution_count": 20,
   "metadata": {},
   "outputs": [
    {
     "name": "stdout",
     "output_type": "stream",
     "text": [
      "[2 2 2 0 2 1 0 1 0 0 2 2 2 1 0 0 2 2 2 2 1 2 0 2 2 1 0 1 1 0 1 2 1 0 0 0 0\n",
      " 2 2 2 0 2 0 1 0 2 1 0 2 0 2 0 1 1 0 2 2 2 0 0 1 1 1 1 1 1 1 2 1 1 1 0 1 0\n",
      " 1 0 2 0 1 0 1 2 0 2 2 2 1 2 1 1 1 2 1 1 0 0 0 0 2 2 1 0 0 1 0 0 0 1 1 1 1\n",
      " 2 2 1 0 0 1 0 2 0 0 2 1 1 1 0 2 2 2 2 0 1 0 1 1 2 0 1 0 1 0 2 2 1 2 2 1 1\n",
      " 0 2 1 2 0 2 0 2 2 2 1 2 1 1 1 1 2 0 1 0 0 2 1 1 0 0 0 1 0 2 0 0 0 0 0 0 1\n",
      " 1 2 0 2 2 0 1 0 2 1 2 2 2 0 2 2 0 2 2 1 1 0 2 2 0 2 2 2 0 2 1 0 1 1 1 1 0\n",
      " 2 1 1 1 0 2 2 2 0 1 2 0 0 2 1 1 0 1 2 1 1 2 0 2 1 1 1 1 0 2 1 0 2 2 0 0 2\n",
      " 0 2 0 1 2 0 0 1 0 2 2 0 0 2 0 2 1 2 0 2 1 1 0 1 2 1 1 0 0 1 2 2 0 1 1 0 1\n",
      " 1 0 0 2]\n"
     ]
    }
   ],
   "source": [
    "pred=KMeans(n_clusters=3,random_state=20).fit_predict(X)\n",
    "print(pred)"
   ]
  }
 ],
 "metadata": {
  "kernelspec": {
   "display_name": "Python 3",
   "language": "python",
   "name": "python3"
  },
  "language_info": {
   "codemirror_mode": {
    "name": "ipython",
    "version": 3
   },
   "file_extension": ".py",
   "mimetype": "text/x-python",
   "name": "python",
   "nbconvert_exporter": "python",
   "pygments_lexer": "ipython3",
   "version": "3.6.5"
  }
 },
 "nbformat": 4,
 "nbformat_minor": 2
}
